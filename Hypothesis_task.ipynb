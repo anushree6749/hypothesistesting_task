{
 "cells": [
  {
   "cell_type": "markdown",
   "id": "e46b6e48",
   "metadata": {},
   "source": [
    "### HYPOTHESIS TESTING"
   ]
  },
  {
   "cell_type": "markdown",
   "id": "6e928fe9",
   "metadata": {},
   "source": [
    "\n",
    "\n",
    "Question 1\n",
    "\n",
    "Suppose a child psychologist says that the average time that working mothers spend talking to their children is at-least 11 minutes per day.\n",
    "You want to test\n",
    "You conduct a random sample of 1000 working mothers and find they spend an average of 11.5 minutes per day talking with their children.\n",
    "Assume prior research suggests the population standard deviation is 2.3 minutes.\n",
    "Conduct test with a level of significance of alpha=0.05\n"
   ]
  },
  {
   "cell_type": "code",
   "execution_count": 1,
   "id": "0fb4e783",
   "metadata": {},
   "outputs": [],
   "source": [
    "### Solution"
   ]
  },
  {
   "cell_type": "markdown",
   "id": "a90efa26",
   "metadata": {},
   "source": [
    "### Step 1: State the Hypotheses\n",
    "\n",
    "Null Hypothesis : The average time working mothers spend talking to their children is 11 minutes or less\n",
    "\n",
    "Alternative Hypothesis : The average time working mothers spend talking to their children is more than 11 minutes \n"
   ]
  },
  {
   "cell_type": "markdown",
   "id": "39a05b35",
   "metadata": {},
   "source": [
    "### Step 2: Set the Significance Level\n",
    "\n",
    "The significance level  is given as 0.05.\n",
    "confidence interval =95%"
   ]
  },
  {
   "cell_type": "markdown",
   "id": "7fcf2a61",
   "metadata": {},
   "source": [
    "### Step 3: Collect and Summarize Data\n",
    "\n",
    "Given data:\n",
    "\n",
    "Sample mean  = 11.5 minutes\n",
    "\n",
    "Population standard deviation  = 2.3 minutes\n",
    "\n",
    "Sample size  = 1000"
   ]
  },
  {
   "cell_type": "markdown",
   "id": "ba7a9209",
   "metadata": {},
   "source": [
    "### Step 4: Calculate the Test Statistic - One tailed z test is conducted for the same\n"
   ]
  },
  {
   "cell_type": "code",
   "execution_count": 2,
   "id": "52c50c3f",
   "metadata": {},
   "outputs": [
    {
     "data": {
      "text/plain": [
       "0.2173913043478261"
      ]
     },
     "execution_count": 2,
     "metadata": {},
     "output_type": "execute_result"
    }
   ],
   "source": [
    "mu =11\n",
    "x =11.5\n",
    "std =2.3\n",
    "z= (x- mu)/ std\n",
    "z"
   ]
  },
  {
   "cell_type": "markdown",
   "id": "0466ebdd",
   "metadata": {},
   "source": [
    "### Step 5: Determine the Critical Region\n",
    "\n",
    "Since it's a one-tailed test (greater than), we are looking for the critical z-value at the 0.05 level of significance.\n",
    "\n",
    "For a one-tailed test at a 0.05 level of significance, the critical z-value is approximately 1.645."
   ]
  },
  {
   "cell_type": "markdown",
   "id": "70efd60b",
   "metadata": {},
   "source": [
    "### Step 6: Final decision\n",
    "\n",
    "As the z value is less than critical value there is enough evidence to suggest that working mothers, on average, spend more than 11 minutes per day talking to their children at the 0.05 level of significance."
   ]
  },
  {
   "cell_type": "markdown",
   "id": "421ae911",
   "metadata": {},
   "source": [
    "####  Question 2\n",
    "\n",
    "A coffee shop claims that their average wait time for customers is less than 5 minutes.\n",
    "To test this claim, a sample of 40 customers is taken, and their wait times are recorded.\n",
    "The sample mean wait time is found to be 4.6 minutes with a standard deviation of 0.8 minutes.\n",
    "Perform a hypothesis test at a significance level of 0.05 and determine whether there is enough\n",
    "evidence to support the coffee shop's claim.\n",
    "Perform the hypothesis testing using correct test statistics and appropriate critical value"
   ]
  },
  {
   "cell_type": "markdown",
   "id": "b7649c14",
   "metadata": {},
   "source": [
    "### Solution"
   ]
  },
  {
   "cell_type": "markdown",
   "id": "48d975de",
   "metadata": {},
   "source": [
    "### Step 1: State the Hypotheses\n",
    "\n",
    "Null Hypothesis : The average wait time at the coffee shop is less than 5 minutes.\n",
    "\n",
    "Alternative Hypothesis :The average wait time at the coffee shop is more than 5 minutes."
   ]
  },
  {
   "cell_type": "markdown",
   "id": "ac2f2ef8",
   "metadata": {},
   "source": [
    "### Step 2: Set the Significance Level\n",
    "The significance level is given as 0.05. \n",
    "\n",
    "Confidence interval =95%"
   ]
  },
  {
   "cell_type": "markdown",
   "id": "0cd4e5d2",
   "metadata": {},
   "source": [
    "### Step 3: Collect and Summarize Data\n",
    "    \n",
    "Given data:\n",
    "\n",
    "Sample mean = 4.6 minutes\n",
    "\n",
    "Population standard deviation = 0.8 minutes\n",
    "\n",
    "Sample size = 40"
   ]
  },
  {
   "cell_type": "markdown",
   "id": "24d3d54f",
   "metadata": {},
   "source": [
    "### Step 4: Calculate the Test Statistic - One tailed z test is conducted for the same\n"
   ]
  },
  {
   "cell_type": "code",
   "execution_count": 4,
   "id": "46b3407e",
   "metadata": {},
   "outputs": [
    {
     "data": {
      "text/plain": [
       "-0.5000000000000004"
      ]
     },
     "execution_count": 4,
     "metadata": {},
     "output_type": "execute_result"
    }
   ],
   "source": [
    "mu =5\n",
    "x =4.6\n",
    "std =0.8\n",
    "z= (x- mu)/ std\n",
    "z"
   ]
  },
  {
   "cell_type": "markdown",
   "id": "34d34d22",
   "metadata": {},
   "source": [
    "### Step 5: Determine the Critical Region\n",
    "\n",
    "Since it's a one-tailed test (greater than), we are looking for the critical z-value at the 0.05 level of significance.\n",
    "\n",
    "For a one-tailed test at a 0.05 level of significance, the critical z-value is approximately  1.645."
   ]
  },
  {
   "cell_type": "markdown",
   "id": "a19732e5",
   "metadata": {},
   "source": [
    "### Step 6: Final decision\n",
    "\n",
    "As the z value(-0.5) is less than critical value(1.645) there is enough evidence to suggest that average waiting time at the coffee shop is less than 5 minutes"
   ]
  }
 ],
 "metadata": {
  "kernelspec": {
   "display_name": "Python 3 (ipykernel)",
   "language": "python",
   "name": "python3"
  },
  "language_info": {
   "codemirror_mode": {
    "name": "ipython",
    "version": 3
   },
   "file_extension": ".py",
   "mimetype": "text/x-python",
   "name": "python",
   "nbconvert_exporter": "python",
   "pygments_lexer": "ipython3",
   "version": "3.11.1"
  }
 },
 "nbformat": 4,
 "nbformat_minor": 5
}
